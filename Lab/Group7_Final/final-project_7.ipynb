{
 "cells": [
  {
   "cell_type": "code",
   "execution_count": 1,
   "metadata": {
    "collapsed": false,
    "scrolled": true
   },
   "outputs": [
    {
     "data": {
      "application/javascript": [
       "require.undef(\"nbextensions/jquery-ui.custom.min\");"
      ],
      "text/plain": [
       "<IPython.core.display.Javascript object>"
      ]
     },
     "metadata": {},
     "output_type": "display_data"
    },
    {
     "data": {
      "application/javascript": [
       "require.undef(\"nbextensions/glow.2.1a.min\");"
      ],
      "text/plain": [
       "<IPython.core.display.Javascript object>"
      ]
     },
     "metadata": {},
     "output_type": "display_data"
    },
    {
     "data": {
      "application/javascript": [
       "require.undef(\"nbextensions/glow.2.1b.min\");"
      ],
      "text/plain": [
       "<IPython.core.display.Javascript object>"
      ]
     },
     "metadata": {},
     "output_type": "display_data"
    },
    {
     "data": {
      "application/javascript": [
       "require.undef(\"nbextensions/glowcomm\");"
      ],
      "text/plain": [
       "<IPython.core.display.Javascript object>"
      ]
     },
     "metadata": {},
     "output_type": "display_data"
    },
    {
     "data": {
      "application/javascript": [
       "require([\"nbextensions/glowcomm\"], function(){console.log(\"glowcomm loaded\");})"
      ],
      "text/plain": [
       "<IPython.core.display.Javascript object>"
      ]
     },
     "metadata": {},
     "output_type": "display_data"
    },
    {
     "data": {
      "text/html": [
       "<div id=\"glowscript\" class=\"glowscript\"></div>"
      ],
      "text/plain": [
       "<IPython.core.display.HTML object>"
      ]
     },
     "metadata": {},
     "output_type": "display_data"
    },
    {
     "data": {
      "application/javascript": [
       "window.__context = { glowscript_container: $(\"#glowscript\").removeAttr(\"id\")}"
      ],
      "text/plain": [
       "<IPython.core.display.Javascript object>"
      ]
     },
     "metadata": {},
     "output_type": "display_data"
    },
    {
     "name": "stdout",
     "output_type": "stream",
     "text": [
      "t =  0.012252000000000977\n"
     ]
    }
   ],
   "source": [
    "#ingredient:glass\n",
    "\n",
    "from vpython import *\n",
    "\n",
    "##Graph\n",
    "g1 = graph(scene = scene, width = 400, height = 200, ytitle = 'm/s', xtitle = 't') # Create a graph for plotting\n",
    "gc11 = gcurve(graph = g1, color = color.cyan, dot = True)\n",
    "\n",
    "g2 = graph(scene = scene, width = 400, height = 200, ytitle = 'E', xtitle = 't') # Create a graph for plotting\n",
    "gc21 = gcurve(graph = g2, color = color.blue, dot = True)\n",
    "\n",
    "##constants\n",
    "changeunit = 1e6 #changeunit from MPa to Pa\n",
    "\n",
    "pi = 3.14\n",
    "g = 9.8\n",
    "rho = 1.293\n",
    "cd = 0.295\n",
    "\n",
    "t = 0\n",
    "dt = 0.000002\n",
    "\n",
    "\n",
    "passedabox = 0\n",
    "currentbox = 0 #The number of boxes that have been passed so far\n",
    "\n",
    "##create objects\n",
    "###bullet\n",
    "bullet = sphere(radius = 2.5e-3, pos = vector(-0.3, 0, 0), color = color.red, opacity = 1, make_trail = True)\n",
    "\n",
    "###boxes\n",
    "number = 10\n",
    "boxlist = []\n",
    "for i in range(number):\n",
    "    newbox = box(pos=vector(i*2*0.1, 0, 0), length = 0.1, height = 0.5, width = 0.01, opacity = 0.3)\n",
    "    boxlist.append(newbox)\n",
    "    \n",
    "##constants\n",
    "###depending on the bullet\n",
    "bullet_mass = 0.4\n",
    "bullet_K = 2300\n",
    "bullet_v = vector(1,0,0)*sqrt(2*bullet_K/bullet_mass)\n",
    "\n",
    "###depending on the ingredients\n",
    "A = pi*( (bullet.radius)**2 ) #隨著子彈口徑大小跟著改變\n",
    "UTS = 2096.5 #隨著撞擊物體的材質跟著改變\n",
    "\n",
    "F = UTS*A*changeunit\n",
    "F_air = -rho/2*mag2(bullet_v)*cd*A*norm(bullet_v)\n",
    "F_gravity = bullet_mass*g*vector(0, -1, 0)\n",
    "\n",
    "ended_in_box = 0\n",
    "\n",
    "##Simulation\n",
    "while t<1000:\n",
    "    rate(500)\n",
    "    bullet.pos += bullet_v*dt    \n",
    "    F_air = -rho/2*mag2(bullet_v)*cd*A*norm(bullet_v)\n",
    "    bullet_v += (F_air + F_gravity)/bullet_mass*dt\n",
    "    t += dt\n",
    "    gc11.plot([t, mag(bullet_v)])\n",
    "    \n",
    "    bullet_K = 0.5*bullet_mass*mag2(bullet_v)\n",
    "    gc21.plot([t, bullet_K])\n",
    "    \n",
    "    if bullet_v.x <= 0 or bullet.pos.y <= -boxlist[currentbox].height/2:\n",
    "        break #End simulation if K is negative or 0\n",
    "\n",
    "    while abs(bullet.pos.x-boxlist[currentbox].pos.x) < bullet.radius+boxlist[currentbox].width/2:  # When ball has collided with phone\n",
    "        rate(500)\n",
    "        bullet_v += (-F*norm(bullet_v))/bullet_mass*dt\n",
    "        bullet.pos += bullet_v*dt\n",
    "        t += dt\n",
    "        gc11.plot([t, mag(bullet_v)])\n",
    "        \n",
    "        bullet_K = 0.5*bullet_mass*mag2(bullet_v)\n",
    "        gc21.plot([t, bullet_K])\n",
    "        \n",
    "        if bullet_v.x <= 0:\n",
    "            ended_in_box = 1\n",
    "            break #End simulation if K is negative or 0\n",
    "        \n",
    "        passedabox = 1\n",
    "        \n",
    "    if ended_in_box == 1:\n",
    "        break\n",
    "        \n",
    "    if passedabox == 1:\n",
    "        currentbox += 1  # Update the number of boxes passed\n",
    "        passedabox = 0\n",
    "    if currentbox >= 10 or bullet_v.x <= 0:\n",
    "        break # End simulation if passed all boxes, or K is negative or 0\n",
    "    \n",
    "        \n",
    "    scene.center=bullet.pos\n",
    "print(\"t = \", t)"
   ]
  }
 ],
 "metadata": {
  "anaconda-cloud": {},
  "kernelspec": {
   "display_name": "VPython",
   "language": "python",
   "name": "vpython"
  },
  "language_info": {
   "codemirror_mode": {
    "name": "ipython",
    "version": 3
   },
   "file_extension": ".py",
   "mimetype": "text/x-python",
   "name": "python",
   "nbconvert_exporter": "python",
   "pygments_lexer": "ipython3",
   "version": "3.5.2"
  }
 },
 "nbformat": 4,
 "nbformat_minor": 0
}
