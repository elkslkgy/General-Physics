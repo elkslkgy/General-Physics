{
 "cells": [
  {
   "cell_type": "markdown",
   "metadata": {},
   "source": [
    "# Computational Models of Motion: Part 1\n",
    "\n",
    "In Chapter 1 of *Matter & Interactions 4e*,  we did iterative calculations of motion by hand, taking two or three steps. To predict motion over a longer time interval, we need to instruct a computer to do the calculations for us. Before doing this activity you should have read Section 1.11 of the *Matter & Interactions 4e* textbook, which gives an overview of this procedure.\n",
    "\n",
    "After completing this activity you should be able to:\n",
    "\n",
    "* Explain the functioning of a `while` loop.\n",
    "* Write a `while` loop of specific duration.\n",
    "* Write a VPython program that predicts and animates the motion of an object traveling at a constant velocity.\n",
    "\n",
    "*This notebook is adopted from the Lab VP02 materials from Matter & Interactions 4e* \n",
    "\n",
    "Reference: [Jupyter VPython Documentation](http://www.glowscript.org/docs/VPythonDocs/index.html)\n"
   ]
  },
  {
   "cell_type": "markdown",
   "metadata": {},
   "source": [
    "## What is a loop?\n",
    "\n",
    "To instruct a computer to repeat a particular set of operations many times, we use a structure called a loop.  The term **loop** probably comes from the appearance of a diagram describing such a calculation, in which the arrows showing the order in which instructions are executed make a loop, like this:\n",
    "\n",
    "<img src=\"Loop.jpg\" style=\"width:350px\"> \n",
    "\n",
    "To learn how to construct a loop in VPython:\n",
    "* Watch the VPython instructional video [VPython Instructional Videos: 3. Beginning Loops ](http://vpython.org/video03.html) which explains how to create a `while` loop.\n",
    "\n"
   ]
  },
  {
   "cell_type": "markdown",
   "metadata": {},
   "source": [
    "### Exercise 1 \n",
    "Wite a `while` loop that counts backwards from 20 to 0 by twos, printing each value.\n",
    "\n",
    "\n",
    "Complete the following code:"
   ]
  },
  {
   "cell_type": "code",
   "execution_count": 22,
   "metadata": {
    "collapsed": false
   },
   "outputs": [
    {
     "ename": "SyntaxError",
     "evalue": "invalid syntax (<ipython-input-22-a7c4aaf10f58>, line 3)",
     "output_type": "error",
     "traceback": [
      "\u001b[1;36m  File \u001b[1;32m\"<ipython-input-22-a7c4aaf10f58>\"\u001b[1;36m, line \u001b[1;32m3\u001b[0m\n\u001b[1;33m    Print i\u001b[0m\n\u001b[1;37m          ^\u001b[0m\n\u001b[1;31mSyntaxError\u001b[0m\u001b[1;31m:\u001b[0m invalid syntax\n"
     ]
    }
   ],
   "source": [
    "i=20\n",
    "while i > 0:\n",
    "    Print i\n",
    "    i = i - 1\n",
    "    \n",
    "\n"
   ]
  },
  {
   "cell_type": "markdown",
   "metadata": {},
   "source": [
    "### Predicting the outcome of a loop\n",
    "\n",
    "What will the output of the following program look like?  Draw your prediction before running the program.\n",
    "    \n",
    "    from __future__ import division, print_function\n",
    "    from vpython import *\n",
    "\n",
    "    scene2=canvas()\n",
    "    offset = vector(0,-3,0)\n",
    "    position_now = vector(0,0,0)\n",
    "    n = 0\n",
    "    while n < 5:\n",
    "        sphere(pos=position_now, color=color.red)\n",
    "        position_now = position_now + offset\n",
    "        n = n + 1\n",
    "\n",
    "Run the program. Explain in detail why the program above produced the display you see."
   ]
  },
  {
   "cell_type": "code",
   "execution_count": 1,
   "metadata": {
    "collapsed": false,
    "scrolled": true
   },
   "outputs": [
    {
     "data": {
      "application/javascript": [
       "require.undef(\"nbextensions/jquery-ui.custom.min\");"
      ],
      "text/plain": [
       "<IPython.core.display.Javascript object>"
      ]
     },
     "metadata": {},
     "output_type": "display_data"
    },
    {
     "data": {
      "application/javascript": [
       "require.undef(\"nbextensions/glow.2.1a.min\");"
      ],
      "text/plain": [
       "<IPython.core.display.Javascript object>"
      ]
     },
     "metadata": {},
     "output_type": "display_data"
    },
    {
     "data": {
      "application/javascript": [
       "require.undef(\"nbextensions/glow.2.1b.min\");"
      ],
      "text/plain": [
       "<IPython.core.display.Javascript object>"
      ]
     },
     "metadata": {},
     "output_type": "display_data"
    },
    {
     "data": {
      "application/javascript": [
       "require.undef(\"nbextensions/glowcomm\");"
      ],
      "text/plain": [
       "<IPython.core.display.Javascript object>"
      ]
     },
     "metadata": {},
     "output_type": "display_data"
    },
    {
     "data": {
      "application/javascript": [
       "require([\"nbextensions/glowcomm\"], function(){console.log(\"glowcomm loaded\");})"
      ],
      "text/plain": [
       "<IPython.core.display.Javascript object>"
      ]
     },
     "metadata": {},
     "output_type": "display_data"
    },
    {
     "data": {
      "text/html": [
       "<div id=\"glowscript\" class=\"glowscript\"></div>"
      ],
      "text/plain": [
       "<IPython.core.display.HTML object>"
      ]
     },
     "metadata": {},
     "output_type": "display_data"
    },
    {
     "data": {
      "application/javascript": [
       "window.__context = { glowscript_container: $(\"#glowscript\").removeAttr(\"id\")}"
      ],
      "text/plain": [
       "<IPython.core.display.Javascript object>"
      ]
     },
     "metadata": {},
     "output_type": "display_data"
    },
    {
     "data": {
      "text/html": [
       "<div id=\"glowscript\" class=\"glowscript\"></div>"
      ],
      "text/plain": [
       "<IPython.core.display.HTML object>"
      ]
     },
     "metadata": {},
     "output_type": "display_data"
    },
    {
     "data": {
      "application/javascript": [
       "window.__context = { glowscript_container: $(\"#glowscript\").removeAttr(\"id\")}"
      ],
      "text/plain": [
       "<IPython.core.display.Javascript object>"
      ]
     },
     "metadata": {},
     "output_type": "display_data"
    }
   ],
   "source": [
    "from __future__ import division, print_function\n",
    "from vpython import *\n",
    "\n",
    "scene2=canvas()\n",
    "offset = vector(0,-3,0)\n",
    "position_now = vector(0,0,0)\n",
    "n = 0\n",
    "while n < 5:\n",
    "    sphere(pos=position_now, color=color.red)\n",
    "    position_now = position_now + offset\n",
    "    n = n + 1\n"
   ]
  },
  {
   "cell_type": "markdown",
   "metadata": {},
   "source": [
    "## Modeling Motion\n",
    "\n",
    "### Predicting the outcome of a loop\n",
    "\n",
    "\n",
    "Read the following program carefully. What will its output look like?  Draw your prediction before running the program.\n",
    "\n",
    "    from __future__ import division, print_function\n",
    "    from vpython import *\n",
    "\n",
    "    scene3=canvas(width=800,height=800)\n",
    "    ball = sphere(pos=vector(-5,0,0), radius=0.5, color=color.green)\n",
    "    block = box(pos=vector(-8,0,0), color=color.yellow)\n",
    "    velocity = vector(0.4, 0.6, 0)\n",
    "    delta_t = 0.1\n",
    "    t = 0\n",
    "\n",
    "    while t < 12:\n",
    "        rate(100)\n",
    "        ball.pos = ball.pos + velocity * delta_t\n",
    "        t = t + delta_t\n",
    "        \n",
    " \n",
    "Run the program.  Was your prediction correct?"
   ]
  },
  {
   "cell_type": "code",
   "execution_count": 17,
   "metadata": {
    "collapsed": false
   },
   "outputs": [
    {
     "data": {
      "text/html": [
       "<div id=\"glowscript\" class=\"glowscript\"></div>"
      ],
      "text/plain": [
       "<IPython.core.display.HTML object>"
      ]
     },
     "metadata": {},
     "output_type": "display_data"
    },
    {
     "data": {
      "application/javascript": [
       "window.__context = { glowscript_container: $(\"#glowscript\").removeAttr(\"id\")}"
      ],
      "text/plain": [
       "<IPython.core.display.Javascript object>"
      ]
     },
     "metadata": {},
     "output_type": "display_data"
    }
   ],
   "source": [
    "from __future__ import division, print_function\n",
    "from vpython import *\n",
    "\n",
    "scene3=canvas(width=800,height=800)\n",
    "ball = sphere(pos=vector(-5,0,0), radius=0.5, color=color.green)\n",
    "block = box(pos=vector(-8,0,0), color=color.yellow)\n",
    "velocity = vector(0.4, 0.6, 0)\n",
    "delta_t = 0.1\n",
    "t = 0\n",
    "\n",
    "while t < 12:\n",
    "    rate(100)\n",
    "    ball.pos = ball.pos + velocity * delta_t\n",
    "    t = t + delta_t"
   ]
  },
  {
   "cell_type": "markdown",
   "metadata": {
    "collapsed": true
   },
   "source": [
    "### Further questions\n",
    "* Explain what the statement `rate(100)` does (See the textbook). \n",
    "* Why does this program move the sphere, while the previous program created many spheres?\n",
    "\n",
    "## Complete a Program\n",
    "Because of VPython's default autoscaling behavior, it is easier to interpret the motion of an object if there is at least one other, stationary object in the display.  The following program fragment uses a box named `wall` for this purpose."
   ]
  },
  {
   "cell_type": "code",
   "execution_count": 18,
   "metadata": {
    "collapsed": false
   },
   "outputs": [
    {
     "data": {
      "text/html": [
       "<div id=\"glowscript\" class=\"glowscript\"></div>"
      ],
      "text/plain": [
       "<IPython.core.display.HTML object>"
      ]
     },
     "metadata": {},
     "output_type": "display_data"
    },
    {
     "data": {
      "application/javascript": [
       "window.__context = { glowscript_container: $(\"#glowscript\").removeAttr(\"id\")}"
      ],
      "text/plain": [
       "<IPython.core.display.Javascript object>"
      ]
     },
     "metadata": {},
     "output_type": "display_data"
    }
   ],
   "source": [
    "from __future__ import division, print_function\n",
    "from vpython import *\n",
    "\n",
    "scene4=canvas()\n",
    "wall = box(pos=vector(0,4,-0.5), length=20, height=10, width=0.1, color=color.green)\n",
    "particle = sphere(pos=vector(-10,0,0), radius = 0.5, color=color.magenta)\n",
    "velocity = vector(0.5,0,0)\n",
    "delta_t = 0.1\n",
    "t = 0\n",
    "while t < 4:\n",
    "    rate(5)\n",
    "    particle.pos = particle.pos + velocity * delta_t\n",
    "    t = t + delta_t"
   ]
  },
  {
   "cell_type": "markdown",
   "metadata": {},
   "source": [
    "* Complete the program fragment above by adding a `while` loop to move the particle.  \n",
    "* Make the loop run just long enough to move the particle from the left side of the wall to the right edge.\n",
    "* After the loop has completed, print out the value of the elapsed time `t`."
   ]
  },
  {
   "cell_type": "markdown",
   "metadata": {},
   "source": [
    "## Modify Your Program\n",
    "Modify your program so that the particle moves from the lower right corner of the green wall to the upper left corner."
   ]
  },
  {
   "cell_type": "code",
   "execution_count": null,
   "metadata": {
    "collapsed": true
   },
   "outputs": [],
   "source": []
  }
 ],
 "metadata": {
  "anaconda-cloud": {},
  "kernelspec": {
   "display_name": "VPython",
   "language": "python",
   "name": "vpython"
  },
  "language_info": {
   "codemirror_mode": {
    "name": "ipython",
    "version": 3
   },
   "file_extension": ".py",
   "mimetype": "text/x-python",
   "name": "python",
   "nbconvert_exporter": "python",
   "pygments_lexer": "ipython3",
   "version": "3.5.2"
  }
 },
 "nbformat": 4,
 "nbformat_minor": 1
}
