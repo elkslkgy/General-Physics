{
 "cells": [
  {
   "cell_type": "markdown",
   "metadata": {},
   "source": [
    "# Calculating and Visualizing Gravitational Force\n",
    "\n",
    "## Objective\n",
    "\n",
    "In order to model the motion of gravitationally interacting bodies, it is necessary to be able to instruct a computer to calculate a gravitational force and to display an arrow representing the force. Before doing this activity you should have read Section 3.6 of the *Matter & Interactions, 4ed.* textbook, which discusses the structure of a computational model that includes the gravitational force.\n",
    "\n",
    "After completing this activity you should be able to:\n",
    "* Write a VPython program to calculate a gravitational force\n",
    "* To create and scale an `arrow` to represent a vector quantity such as a force on an object\n",
    "* To write a `while` loop that creates multiple objects and performs the same calculation on each one\n",
    "\n",
    "*This notebook is adopted from the Lab VP04 materials from Matter & Interactions 4e* \n",
    "\n",
    "Reference: [Jupyter VPython Documentation](http://www.glowscript.org/docs/VPythonDocs/index.html)"
   ]
  },
  {
   "cell_type": "markdown",
   "metadata": {},
   "source": [
    "## Prediction\n",
    "\n",
    "   * On a whiteboard draw a diagram like the one below.  Each numbered dot represents the position of a different spacecraft. (A single spacecraft near a planet would not move in a straight line.)\n",
    "   * At each numbered location draw an arrow representing the gravitational force on a spacecraft at that location, due to the planet.\n",
    "   * Make sure that your diagram makes sense.  Is the direction of each arrow correct? Is the length of the arrow proportional to the magnitude of the quantity it represents?\n",
    "   \n",
    "![](planet_5_spacecraft.jpg)\n"
   ]
  },
  {
   "cell_type": "markdown",
   "metadata": {},
   "source": [
    "## Objects and Constants\n",
    "\n",
    "### Creating Objects\n",
    "\n",
    "* Start a VPython program by inserting these lines at the beginning:\n",
    "\n",
    "```\n",
    "from vpython import *\n",
    "scene=canvas(width=1000)\n",
    "```\n",
    "\n",
    "* Create a sphere of radius $6.4\\times 10^6$ m, located at $\\langle 0,-2\\times 10^7,0\\rangle$ m to represent the planet. Give the sphere an appropriate name.\n",
    "* Create a second sphere to represent the spacecraft. Give this sphere an appropriate name. You will need to exaggerate its radius to make it visible; try $3\\times 10^6$ m.  Place it at location $\\langle -13\\times 10^7,4.5\\times 10^{7},0\\rangle$ m, and make its color different from the color of the planet.\n"
   ]
  },
  {
   "cell_type": "markdown",
   "metadata": {},
   "source": [
    "### Constants\n",
    "In a program it is important to use symbolic names for constants.  Why?  To make it easy to make changes and corrections to the model.  For example, if you want to change the mass of an object, it is much easier to change a single line such as :\n",
    "\n",
    "    mass = 1.3e7\n",
    "\n",
    "then it is to search for and replace all occurrences of the string `1.3e7`.\n",
    "\n",
    "\n",
    "*  Insert a line of code that assigns the name `G` to the value of the gravitational constant.\n",
    "*  Also create approriately named variables to store the masses of the planet ($6\\times 10^{24}$ kg) and of a spacecraft ($1.5\\times 10^4$ kg).\n",
    "\n"
   ]
  },
  {
   "cell_type": "code",
   "execution_count": 38,
   "metadata": {
    "collapsed": false
   },
   "outputs": [
    {
     "data": {
      "text/html": [
       "<div id=\"glowscript\" class=\"glowscript\"></div>"
      ],
      "text/plain": [
       "<IPython.core.display.HTML object>"
      ]
     },
     "metadata": {},
     "output_type": "display_data"
    },
    {
     "data": {
      "application/javascript": [
       "window.__context = { glowscript_container: $(\"#glowscript\").removeAttr(\"id\")}"
      ],
      "text/plain": [
       "<IPython.core.display.Javascript object>"
      ]
     },
     "metadata": {},
     "output_type": "display_data"
    }
   ],
   "source": [
    "from vpython import *\n",
    "mass_planet=6e24\n",
    "mass_spacecraft1=1.5e4\n",
    "G=6.67e-11\n",
    "\n",
    "scene=canvas(width=1000)\n",
    "planet=sphere(pos=vector(0, -2e7, 0), radius=6.4e6, color=color.blue)\n",
    "spacecraft1=sphere(pos=vector(-13e7, 4.5e7, 0), radius=3e6, color=color.red)\n",
    "spacecraft2=sphere(pos=vector(-6e7, 4.5e7, 0), radius=3e6, color=color.white)\n",
    "spacecraft3=sphere(pos=vector(0, 4.5e7, 0), radius=3e6, color=color.green)\n",
    "spacecraft4=sphere(pos=vector(6e7, 4.5e7, 0), radius=3e6, color=color.blue)\n",
    "spacecraft5=sphere(pos=vector(13e7, 4.5e7, 0), radius=3e6, color=color.red)\n",
    "\n",
    "r1_vector=planet.pos-spacecraft1.pos\n",
    "r1_distance=mag(r1_vector)\n",
    "force1=G*mass_planet*mass_spacecraft1/(r1_distance**2)\n",
    "\n",
    "\n",
    "a1=arrow(pos=spacecraft1.pos, axis=100000*force1*norm(r1_vector), color=color.yellow)"
   ]
  },
  {
   "cell_type": "markdown",
   "metadata": {
    "collapsed": true
   },
   "source": [
    "## Calculating Gravitational Force\n",
    "\n",
    "For the single spacecraft your program has created:\n",
    "\n",
    "* Add instructions to calculate gravitational force on the spacecraft by the planet. Use symbolic names for every quantity in the program lines you write.\n",
    "* Print the value you calculated.  Does the direction of the force make sense?\n",
    "\n"
   ]
  },
  {
   "cell_type": "markdown",
   "metadata": {},
   "source": [
    "### Representing Gravitational Force with an Arrow\n",
    "Create an `arrow` object with its **tail** at the location of the spacecraft.  \n",
    "* Set the `axis` of the `arrow` object to the value of the gravitational force you calculated.\n",
    "* Run the program.  What do you see?  Can you explain why?\n",
    "\n"
   ]
  },
  {
   "cell_type": "markdown",
   "metadata": {},
   "source": [
    "* Watch the VPython instructional video [VPython Instructional Videos: 5. Scale Factors ](http://vpython.org/video05.html) to see how to multiply the `axis` attribute of an `arrow` by a scalar to adjust its length so all objects in the scene are visible.\n",
    "* Use an appropriate scale factor to scale your `arrow` to an appropriate length.  Be prepared to explain how you determined this scale factor."
   ]
  },
  {
   "cell_type": "markdown",
   "metadata": {},
   "source": [
    "# Ask TA to check your progress"
   ]
  },
  {
   "cell_type": "markdown",
   "metadata": {},
   "source": [
    "## Multiple Locations\n",
    "\n",
    "To calculate and display the gravitational force on several spacecraft at different locations, as in the diagram you drew previously, we can use a loop.  Recall that in a previous activity you encountered **two** different kinds of loops:  one that created multiple objects at different locations, and one that moved a single object.\n",
    "\n",
    "\n",
    "* Which of the following loops, Loop 1 or Loop 2, will create *multiple different objects*? \n",
    "* Which loop will move a *single object* across the screen?\n",
    "\n",
    "### Loop 1\n",
    "```\n",
    "wall = box(pos=vector(0,0,-2), length=40, height=20, width=1)\n",
    "x = -20\n",
    "dx = 2\n",
    "ball = sphere(pos = vector(x,0,0), color=color.red, radius=0.3)\n",
    "while x < 21:\n",
    "    rate(2)\n",
    "    ball.pos = ball.pos + vector(dx,0,0)\n",
    "    x = x + dx\n",
    "```\n",
    "\n",
    "### Loop 2\n",
    "```\n",
    "wall = box(pos=vector(0,0,-2), length=40, height=20, width=1)\n",
    "x = -20\n",
    "dx = 2\n",
    "while x < 21:\n",
    "    rate(2)\n",
    "    ball = sphere(pos = vector(x,0,0), color=color.red, radius=0.3)\n",
    "    x = x + dx\n",
    "```"
   ]
  },
  {
   "cell_type": "markdown",
   "metadata": {},
   "source": [
    "### Gravitational Force at Multiple Locations\n",
    "\n",
    "Modify your program so that it contains a **single** `while` loop which does the following:\n",
    "\n",
    "* Creates five different spheres representing five spacecraft at these locations:\n",
    "  $ \\langle -13\\times 10^{7}, 4.5\\times 10^7,0\\rangle$m, $\\langle -6.5\\times 10^{7}, 4.5\\times 10^7,0\\rangle$m, $ \\langle 0, 4.5\\times 10^{7},0\\rangle$m, $\\langle 6.5\\times 10^{7}, 4.5\\times 10^{7},0\\rangle $m, $\\langle 13\\times 10^{7}, 4.5\\times 10^{7},0\\rangle$m\n",
    "  \n",
    "* Calculates and prints the gravitational force on each spacecraft by the planet.\n",
    "* Visualizes the gravitational force on each spacecraft with an `arrow` with its tail on the spacecraft. \n",
    "Adjust the scale factor to make the display comprehensible, but make sure you use the **same** scale factor for all arrows! \n",
    "To make it easier to compare arrows, set the `shaftwidth` of each `arrow` equal to half the radius of a planet.\n"
   ]
  },
  {
   "cell_type": "markdown",
   "metadata": {},
   "source": [
    "## Forces on the Planet\n",
    "\n",
    "* Modify your program so that it also displays 5 arrows representing the forces on the planet by the five spacecraft.\n",
    "* Make sure the directions and magnitudes of these arrows make sense."
   ]
  },
  {
   "cell_type": "markdown",
   "metadata": {
    "collapsed": true
   },
   "source": [
    "# Ask TA to check your progress"
   ]
  },
  {
   "cell_type": "code",
   "execution_count": null,
   "metadata": {
    "collapsed": true
   },
   "outputs": [],
   "source": []
  }
 ],
 "metadata": {
  "anaconda-cloud": {},
  "kernelspec": {
   "display_name": "VPython",
   "language": "python",
   "name": "vpython"
  },
  "language_info": {
   "codemirror_mode": {
    "name": "ipython",
    "version": 3
   },
   "file_extension": ".py",
   "mimetype": "text/x-python",
   "name": "python",
   "nbconvert_exporter": "python",
   "pygments_lexer": "ipython3",
   "version": "3.5.2"
  }
 },
 "nbformat": 4,
 "nbformat_minor": 1
}
