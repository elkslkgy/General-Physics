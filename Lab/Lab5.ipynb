{
 "cells": [
  {
   "cell_type": "markdown",
   "metadata": {},
   "source": [
    "#  A Space Voyage: Part 1\n",
    "\n",
    "## Objective\n",
    "\n",
    "In this program you will model the motion of a spacecraft moving near the Earth. You will use your working program to explore the effect of the spacecraft's initial velocity on its trajectory. Before doing this activity you should have read Section 3.6 of the *Matter and Interactions, 4e* textbook, which discusses the structure of a computational model that includes the gravitational force.  This activity will require you to bring together ideas from previous activities in which you \n",
    "* wrote a program to calculate the gravitational force between two objects, and \n",
    "* used an arrow object and a scale factor to visualize a gravitational force.\n",
    "\n",
    "After completing this activity you should be able to:\n",
    "\n",
    "* Identify what quantities must be calculated inside a computational loop\n",
    "* Write a program to model the motion of two gravitationally interacting objects\n",
    "* Explain why the initial velocity of an object affects its trajectory as it moves near a more massive object\n",
    "* Draw a diagram showing the directions of momentum and net force at different locations along an elliptical orbit\n",
    "\n",
    "\n",
    "*This notebook is adopted from the Lab VP05 materials from Matter & Interactions 4e* \n",
    "\n",
    "Reference: [Jupyter VPython Documentation](http://www.glowscript.org/docs/VPythonDocs/index.html)\n"
   ]
  },
  {
   "cell_type": "markdown",
   "metadata": {},
   "source": [
    "## Explain and  Predict \n",
    "\n",
    "Study the following VPython program carefully. Make sure you understand the whole program, but don't run the program yet. Reading and explaining program code is an important part of learning to create and modify computational models.\n",
    "\n",
    "\n",
    "Without running the program, answer the following questions:\n",
    "\n",
    "* What is the physical system being modeled? \n",
    "* In the real world, how should this system behave? On a piece of paper, draw a sketch showing how you think the objects should move in the real world. \n",
    "* Will the program as it is now written accurately model the real system?\n",
    "* On a piece of  paper, draw a sketch of how the objects created in the program will move on the screen, based on your interpretation of the code.\n",
    "\n"
   ]
  },
  {
   "cell_type": "code",
   "execution_count": 1,
   "metadata": {
    "collapsed": false
   },
   "outputs": [
    {
     "data": {
      "application/javascript": [
       "require.undef(\"nbextensions/jquery-ui.custom.min\");"
      ],
      "text/plain": [
       "<IPython.core.display.Javascript object>"
      ]
     },
     "metadata": {},
     "output_type": "display_data"
    },
    {
     "data": {
      "application/javascript": [
       "require.undef(\"nbextensions/glow.2.1a.min\");"
      ],
      "text/plain": [
       "<IPython.core.display.Javascript object>"
      ]
     },
     "metadata": {},
     "output_type": "display_data"
    },
    {
     "data": {
      "application/javascript": [
       "require.undef(\"nbextensions/glow.2.1b.min\");"
      ],
      "text/plain": [
       "<IPython.core.display.Javascript object>"
      ]
     },
     "metadata": {},
     "output_type": "display_data"
    },
    {
     "data": {
      "application/javascript": [
       "require.undef(\"nbextensions/glowcomm\");"
      ],
      "text/plain": [
       "<IPython.core.display.Javascript object>"
      ]
     },
     "metadata": {},
     "output_type": "display_data"
    },
    {
     "data": {
      "application/javascript": [
       "require([\"nbextensions/glowcomm\"], function(){console.log(\"glowcomm loaded\");})"
      ],
      "text/plain": [
       "<IPython.core.display.Javascript object>"
      ]
     },
     "metadata": {},
     "output_type": "display_data"
    },
    {
     "data": {
      "text/html": [
       "<div id=\"glowscript\" class=\"glowscript\"></div>"
      ],
      "text/plain": [
       "<IPython.core.display.HTML object>"
      ]
     },
     "metadata": {},
     "output_type": "display_data"
    },
    {
     "data": {
      "application/javascript": [
       "window.__context = { glowscript_container: $(\"#glowscript\").removeAttr(\"id\")}"
      ],
      "text/plain": [
       "<IPython.core.display.Javascript object>"
      ]
     },
     "metadata": {},
     "output_type": "display_data"
    },
    {
     "ename": "KeyboardInterrupt",
     "evalue": "",
     "output_type": "error",
     "traceback": [
      "\u001b[1;31m---------------------------------------------------------------------------\u001b[0m",
      "\u001b[1;31mKeyboardInterrupt\u001b[0m                         Traceback (most recent call last)",
      "\u001b[1;32m<ipython-input-1-11a0126970c2>\u001b[0m in \u001b[0;36m<module>\u001b[1;34m()\u001b[0m\n\u001b[0;32m     16\u001b[0m \u001b[1;33m\u001b[0m\u001b[0m\n\u001b[0;32m     17\u001b[0m \u001b[1;32mwhile\u001b[0m \u001b[0mt\u001b[0m \u001b[1;33m<\u001b[0m \u001b[1;36m10\u001b[0m\u001b[1;33m*\u001b[0m\u001b[1;36m365\u001b[0m\u001b[1;33m*\u001b[0m\u001b[1;36m24\u001b[0m\u001b[1;33m*\u001b[0m\u001b[1;36m60\u001b[0m\u001b[1;33m*\u001b[0m\u001b[1;36m60\u001b[0m\u001b[1;33m:\u001b[0m\u001b[1;33m\u001b[0m\u001b[0m\n\u001b[1;32m---> 18\u001b[1;33m     \u001b[0mrate\u001b[0m\u001b[1;33m(\u001b[0m\u001b[1;36m1e3\u001b[0m\u001b[1;33m)\u001b[0m\u001b[1;33m\u001b[0m\u001b[0m\n\u001b[0m\u001b[0;32m     19\u001b[0m     \u001b[0mforce\u001b[0m \u001b[1;33m=\u001b[0m \u001b[0mG\u001b[0m\u001b[1;33m*\u001b[0m\u001b[0mmEarth\u001b[0m\u001b[1;33m*\u001b[0m\u001b[0mmcraft\u001b[0m\u001b[1;33m/\u001b[0m\u001b[0mmag2\u001b[0m\u001b[1;33m(\u001b[0m\u001b[0mEarth\u001b[0m\u001b[1;33m.\u001b[0m\u001b[0mpos\u001b[0m\u001b[1;33m-\u001b[0m\u001b[0mcraft\u001b[0m\u001b[1;33m.\u001b[0m\u001b[0mpos\u001b[0m\u001b[1;33m)\u001b[0m\u001b[1;33m\u001b[0m\u001b[0m\n\u001b[0;32m     20\u001b[0m     \u001b[0mforce_unit\u001b[0m \u001b[1;33m=\u001b[0m \u001b[0mnorm\u001b[0m\u001b[1;33m(\u001b[0m\u001b[0mEarth\u001b[0m\u001b[1;33m.\u001b[0m\u001b[0mpos\u001b[0m\u001b[1;33m-\u001b[0m\u001b[0mcraft\u001b[0m\u001b[1;33m.\u001b[0m\u001b[0mpos\u001b[0m\u001b[1;33m)\u001b[0m\u001b[1;33m\u001b[0m\u001b[0m\n",
      "\u001b[1;32mC:\\Users\\ASUS\\Anaconda3\\lib\\site-packages\\vpython\\vpython.py\u001b[0m in \u001b[0;36m__call__\u001b[1;34m(self, maxRate)\u001b[0m\n\u001b[0;32m    214\u001b[0m         \u001b[1;32mif\u001b[0m \u001b[1;33m(\u001b[0m\u001b[0mself\u001b[0m\u001b[1;33m.\u001b[0m\u001b[0mrval\u001b[0m \u001b[1;33m!=\u001b[0m \u001b[0mmaxRate\u001b[0m\u001b[1;33m)\u001b[0m \u001b[1;32mand\u001b[0m \u001b[1;33m(\u001b[0m\u001b[0mmaxRate\u001b[0m \u001b[1;33m>=\u001b[0m \u001b[1;36m1.0\u001b[0m\u001b[1;33m)\u001b[0m\u001b[1;33m:\u001b[0m\u001b[1;33m\u001b[0m\u001b[0m\n\u001b[0;32m    215\u001b[0m             \u001b[0mself\u001b[0m\u001b[1;33m.\u001b[0m\u001b[0mrval\u001b[0m \u001b[1;33m=\u001b[0m \u001b[0mmaxRate\u001b[0m\u001b[1;33m\u001b[0m\u001b[0m\n\u001b[1;32m--> 216\u001b[1;33m         \u001b[0msuper\u001b[0m\u001b[1;33m(\u001b[0m\u001b[0mRateKeeper2\u001b[0m\u001b[1;33m,\u001b[0m \u001b[0mself\u001b[0m\u001b[1;33m)\u001b[0m\u001b[1;33m.\u001b[0m\u001b[0m__call__\u001b[0m\u001b[1;33m(\u001b[0m\u001b[0mmaxRate\u001b[0m\u001b[1;33m)\u001b[0m\u001b[1;33m\u001b[0m\u001b[0m\n\u001b[0m\u001b[0;32m    217\u001b[0m \u001b[1;33m\u001b[0m\u001b[0m\n\u001b[0;32m    218\u001b[0m \u001b[1;32mif\u001b[0m \u001b[0msys\u001b[0m\u001b[1;33m.\u001b[0m\u001b[0mversion\u001b[0m \u001b[1;33m>\u001b[0m \u001b[1;34m'3'\u001b[0m\u001b[1;33m:\u001b[0m\u001b[1;33m\u001b[0m\u001b[0m\n",
      "\u001b[1;32mC:\\Users\\ASUS\\Anaconda3\\lib\\site-packages\\vpython\\rate_control.py\u001b[0m in \u001b[0;36m__call__\u001b[1;34m(self, maxRate)\u001b[0m\n\u001b[0;32m    204\u001b[0m             \u001b[0mdt\u001b[0m \u001b[1;33m=\u001b[0m \u001b[0mself\u001b[0m\u001b[1;33m.\u001b[0m\u001b[0mlastSleep\u001b[0m \u001b[1;33m+\u001b[0m \u001b[0mself\u001b[0m\u001b[1;33m.\u001b[0m\u001b[0mcalls\u001b[0m\u001b[1;33m*\u001b[0m\u001b[1;33m(\u001b[0m\u001b[0mself\u001b[0m\u001b[1;33m.\u001b[0m\u001b[0muserTime\u001b[0m \u001b[1;33m+\u001b[0m \u001b[0mself\u001b[0m\u001b[1;33m.\u001b[0m\u001b[0mcallTime\u001b[0m \u001b[1;33m+\u001b[0m \u001b[0mself\u001b[0m\u001b[1;33m.\u001b[0m\u001b[0mdelay\u001b[0m\u001b[1;33m)\u001b[0m \u001b[1;33m+\u001b[0m\u001b[0;31m \u001b[0m\u001b[0;31m\\\u001b[0m\u001b[1;33m\u001b[0m\u001b[0m\n\u001b[0;32m    205\u001b[0m                  \u001b[0mrenders\u001b[0m\u001b[1;33m*\u001b[0m\u001b[0mself\u001b[0m\u001b[1;33m.\u001b[0m\u001b[0mrenderTime\u001b[0m \u001b[1;33m+\u001b[0m \u001b[0msleeps\u001b[0m\u001b[1;33m*\u001b[0m\u001b[0mself\u001b[0m\u001b[1;33m.\u001b[0m\u001b[0minteractionPeriod\u001b[0m \u001b[1;33m-\u001b[0m \u001b[0m_clock\u001b[0m\u001b[1;33m(\u001b[0m\u001b[1;33m)\u001b[0m\u001b[1;33m\u001b[0m\u001b[0m\n\u001b[1;32m--> 206\u001b[1;33m             \u001b[0m_sleep\u001b[0m\u001b[1;33m(\u001b[0m\u001b[0mdt\u001b[0m\u001b[1;33m)\u001b[0m\u001b[1;33m\u001b[0m\u001b[0m\n\u001b[0m\u001b[0;32m    207\u001b[0m             \u001b[0mself\u001b[0m\u001b[1;33m.\u001b[0m\u001b[0mlastSleep\u001b[0m \u001b[1;33m=\u001b[0m \u001b[0m_clock\u001b[0m\u001b[1;33m(\u001b[0m\u001b[1;33m)\u001b[0m\u001b[1;33m\u001b[0m\u001b[0m\n\u001b[0;32m    208\u001b[0m             \u001b[0mself\u001b[0m\u001b[1;33m.\u001b[0m\u001b[0mcalls\u001b[0m \u001b[1;33m=\u001b[0m \u001b[1;36m0\u001b[0m\u001b[1;33m\u001b[0m\u001b[0m\n",
      "\u001b[1;32mC:\\Users\\ASUS\\Anaconda3\\lib\\site-packages\\vpython\\rate_control.py\u001b[0m in \u001b[0;36m_sleep\u001b[1;34m(dt)\u001b[0m\n\u001b[0;32m     47\u001b[0m         \u001b[0mdtsleep\u001b[0m \u001b[1;33m=\u001b[0m \u001b[0mnticks\u001b[0m\u001b[1;33m*\u001b[0m\u001b[0m_tick\u001b[0m\u001b[1;33m\u001b[0m\u001b[0m\n\u001b[0;32m     48\u001b[0m         \u001b[0mt\u001b[0m \u001b[1;33m=\u001b[0m \u001b[0m_clock\u001b[0m\u001b[1;33m(\u001b[0m\u001b[1;33m)\u001b[0m\u001b[1;33m\u001b[0m\u001b[0m\n\u001b[1;32m---> 49\u001b[1;33m         \u001b[0mtime\u001b[0m\u001b[1;33m.\u001b[0m\u001b[0msleep\u001b[0m\u001b[1;33m(\u001b[0m\u001b[0mdtsleep\u001b[0m\u001b[1;33m)\u001b[0m\u001b[1;33m\u001b[0m\u001b[0m\n\u001b[0m\u001b[0;32m     50\u001b[0m         \u001b[0mt\u001b[0m \u001b[1;33m=\u001b[0m \u001b[0m_clock\u001b[0m\u001b[1;33m(\u001b[0m\u001b[1;33m)\u001b[0m\u001b[1;33m-\u001b[0m\u001b[0mt\u001b[0m\u001b[1;33m\u001b[0m\u001b[0m\n\u001b[0;32m     51\u001b[0m         \u001b[0mdt\u001b[0m \u001b[1;33m-=\u001b[0m \u001b[0mt\u001b[0m\u001b[1;33m\u001b[0m\u001b[0m\n",
      "\u001b[1;31mKeyboardInterrupt\u001b[0m: "
     ]
    }
   ],
   "source": [
    "from vpython import *\n",
    "scene.width = scene.height = 800\n",
    "\n",
    "G = 6.7e-11\n",
    "mEarth = 6e24\n",
    "mcraft = 15e3\n",
    "deltat = 2\n",
    "\n",
    "Earth = sphere(pos=vector(0,0,0), radius=6.4e6, color=color.cyan, opacity=0.8)\n",
    "craft = sphere(pos=vector(-10*Earth.radius, 0,0), radius=1e6,\n",
    "               color=color.yellow, make_trail=True, trail_color=color.white)\n",
    "vcraft = vector(0,2e3,0)\n",
    "pcraft = mcraft*vcraft\n",
    "t = 0\n",
    "scene.autoscale = False ##turn off automatic camera zoom\n",
    "\n",
    "while t < 10*365*24*60*60:\n",
    "    rate(1e3)\n",
    "    force = G*mEarth*mcraft/mag2(Earth.pos-craft.pos)\n",
    "    force_unit = norm(Earth.pos-craft.pos)\n",
    "    pcraft += force*force_unit*deltat\n",
    "    craft.pos = craft.pos + (pcraft/mcraft)*deltat\n",
    "    t = t+deltat\n",
    "    scene.center = Earth.pos"
   ]
  },
  {
   "cell_type": "markdown",
   "metadata": {},
   "source": [
    "## Modify and Extend the Model\n",
    "\n",
    "* Run the program.   \n",
    "* How did your prediction compare to what you saw? Did something happen that you didn't expect to happen?\n",
    "* How should the program be changed so that it is a physically reasonable model of the system?\n",
    "* Modify the program.  Run it and compare its behavior to the behavior you expect from the real system.\n"
   ]
  },
  {
   "cell_type": "markdown",
   "metadata": {},
   "source": [
    "## STOP! Ask a TA to check your progress"
   ]
  },
  {
   "cell_type": "markdown",
   "metadata": {},
   "source": [
    "## Visualize Momentum \n",
    "In a previous activity, you used arrows to visualize gravitational force vectors. In this program, you will use an arrow to visualize the momentum of the spacecraft.  Note that you want one arrow that moves **with** the spacecraft--you don't want to create many arrows.  Therefore you will create the arrow before the loop, and change its `pos` and `axis` inside the loop, just after updating the `pos` of the spacecraft.  You may review the video on scale factors if necessary: [VPython Instructional Videos: 5. Scale Factors ](http://vpython.org/video05.html)\n"
   ]
  },
  {
   "cell_type": "markdown",
   "metadata": {},
   "source": [
    "* Print the initial momentum of the spacecraft. \n",
    "* Use this value to decide on a value for a scale factor that will make the arrow representing momentum a reasonable length in the display.\n",
    "* Before the computational loop:\n",
    "    * Add a line of code that assigns the symbolic name `sf` to the scale factor.   \n",
    "    * Create an arrow named `parr` to represent the craft's momentum.\n",
    "* Inside the loop, add two lines of code (after the position update) like this:\n",
    "\n",
    "```\n",
    "    parr.pos = craft.pos\n",
    "    parr.axis = pcraft * sf\n",
    "```\n",
    "\n",
    "* Once you have seen the entire orbit, you may have to adjust the scale factor.\n"
   ]
  },
  {
   "cell_type": "markdown",
   "metadata": {},
   "source": [
    "## Testing a Value of a Variable\n",
    "\n",
    "An `if` statement can be used to instruct VPython to do something only in a particular situation.  The action to take is indented after the `if` statement.  For example, consider the following code fragment:\n",
    "\n",
    "```\n",
    "a = 3\n",
    "if a < 4:\n",
    "    sphere(color=color.green)\n",
    "box(pos=vector(3,3,0), color=color.cyan)\n",
    "```\n",
    "\n",
    "\n",
    "* Try the code above in a new program window.  What does it do?   \n",
    "* What happens when you replace `a = 3` with `a = 8`?\n",
    "\n"
   ]
  },
  {
   "cell_type": "code",
   "execution_count": null,
   "metadata": {
    "collapsed": false
   },
   "outputs": [],
   "source": [
    "scene2=canvas()\n",
    "a = 3\n",
    "if a < 4:\n",
    "    sphere(color=color.green)\n",
    "box(pos=vector(3,3,0), color=color.cyan)"
   ]
  },
  {
   "cell_type": "markdown",
   "metadata": {},
   "source": [
    "### Detecting a Collision\n",
    "\n",
    "If your spacecraft collides with the Earth, the program should stop.\n",
    "\n",
    "* Add code similar to the following inside your loop (using the name you defined for the relative position vector between the spacecraft and the center of the Earth):   \n",
    "\n",
    "```\n",
    "if r.mag < Earth.radius:\n",
    "     break  ## exit from the loop\n",
    "```\n",
    "\n",
    "The `break` instruction tells VPython to get out of the loop and go to the first instruction after the loop (if there is one.)  Because the `break` instruction is indented after the `if` statement, it will be executed only if the `if` test returns a value of `True`."
   ]
  },
  {
   "cell_type": "markdown",
   "metadata": {},
   "source": [
    "## Direction of Momentum\n",
    "\n",
    "Record your answers to the following questions:\n",
    "\n",
    "\n",
    "* For this elliptical orbit, what is the direction of the spacecraft's momentum vector? Tangential? Radial? Something else?\n",
    "* What happens to the momentum as the spacecraft moves away from the Earth?   \n",
    "* As it moves toward the Earth?\n",
    "* Why? Explain these changes in momentum in terms of the Momentum Principle.\n",
    "\n",
    "\n",
    "\n",
    "## Effect of the Initial Velocity\n",
    "\n",
    "\n",
    "* Approximately, what minimum initial speed is required so that the spacecraft **escapes** and never comes back? You may have to zoom out to see whether the spacecraft shows signs of coming back. You may also have to extend the time in the `while` statement.\n",
    "* What initial speed is required to make a nearly circular orbit around the Earth? You may wish to zoom out to examine the orbit more closely.   \n",
    "* How does increasing the initial speed affect the orbit? Explain this by considering the first few time steps.\n",
    "* How does decreasing the initial speed affect the orbit? Explain this by considering the first few time steps.\n",
    "\n",
    "\n",
    "\n",
    "## Adding an Arrow to Represent Force \n",
    "\n",
    "\n",
    "* Choose an initial speed that produces an elliptical orbit.\n",
    "* Add a second, different colored arrow representing the net force on the spacecraft.  This arrow should also move with the craft.  You'll need a different scale factor for this arrow.\n",
    "* Are the net force on the craft and the momentum of the craft in the same direction?\n",
    "* What is the relative direction of these arrows when the craft is slowing down?  \n",
    "* Speeding up?  \n",
    "* Draw a diagram showing the directions of the craft's momentum and the net force on the craft at 6 different locations along an elliptical orbit. At each location note whether the speed of the craft is increasing, decreasing, or momentarily not changing.\n",
    "\n"
   ]
  },
  {
   "cell_type": "code",
   "execution_count": null,
   "metadata": {
    "collapsed": true
   },
   "outputs": [],
   "source": []
  }
 ],
 "metadata": {
  "anaconda-cloud": {},
  "kernelspec": {
   "display_name": "VPython",
   "language": "python",
   "name": "vpython"
  },
  "language_info": {
   "codemirror_mode": {
    "name": "ipython",
    "version": 3
   },
   "file_extension": ".py",
   "mimetype": "text/x-python",
   "name": "python",
   "nbconvert_exporter": "python",
   "pygments_lexer": "ipython3",
   "version": "3.5.2"
  }
 },
 "nbformat": 4,
 "nbformat_minor": 1
}
