{
 "cells": [
  {
   "cell_type": "markdown",
   "metadata": {},
   "source": [
    "# Assignment 0:   [Deadline: 2016/09/29 00:00]\n",
    "    In this assignment, we will practice the using of Git and VPython. \n",
    "\n",
    "## $\\cdot$Draw a blue sphere with radius $R=2.2$  at position $\\vec{r}=<0,3,5>$ using VPython \n",
    "\n",
    "\n",
    "\n",
    "### Homework Guide line:\n",
    "   1. You don't have to creat a new notebook, just write down your solution in a new cell in \"This\" notebook\n",
    "   2. You have to submit this notebook with your answer to Github using Git. Please push to the same repo. where you clone this assignment.\n",
    "   3. Please put a tag with tag name $\\color{red}{\"asign0\"}$ (all lower case) with your latest push SHA, we will use this tag to track your submit time.\n",
    "   \n",
    "   4. ***IMPORTANT!!*** :\n",
    "       You have to use the same Github account that you leave your username on the Google Form.\n",
    "       \n",
    "    \n",
    "   "
   ]
  },
  {
   "cell_type": "code",
   "execution_count": 3,
   "metadata": {
    "collapsed": false
   },
   "outputs": [
    {
     "data": {
      "text/html": [
       "<div id=\"glowscript\" class=\"glowscript\"></div>"
      ],
      "text/plain": [
       "<IPython.core.display.HTML object>"
      ]
     },
     "metadata": {},
     "output_type": "display_data"
    },
    {
     "data": {
      "application/javascript": [
       "window.__context = { glowscript_container: $(\"#glowscript\").removeAttr(\"id\")}"
      ],
      "text/plain": [
       "<IPython.core.display.Javascript object>"
      ]
     },
     "metadata": {},
     "output_type": "display_data"
    }
   ],
   "source": [
    "from __future__ import division, print_function\n",
    "from vpython import *\n",
    "scene_eq1=canvas(title='First Program') #Create\n",
    "\n",
    "sphere(pos=vector(0,3,5), radius=2.2, color=color.blue)"
   ]
  }
 ],
 "metadata": {
  "kernelspec": {
   "display_name": "VPython",
   "language": "python",
   "name": "vpython"
  },
  "language_info": {
   "codemirror_mode": {
    "name": "ipython",
    "version": 3
   },
   "file_extension": ".py",
   "mimetype": "text/x-python",
   "name": "python",
   "nbconvert_exporter": "python",
   "pygments_lexer": "ipython3",
   "version": "3.5.2"
  }
 },
 "nbformat": 4,
 "nbformat_minor": 1
}
