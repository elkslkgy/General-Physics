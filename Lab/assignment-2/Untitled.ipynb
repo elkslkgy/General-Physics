{
 "cells": [
  {
   "cell_type": "code",
   "execution_count": 6,
   "metadata": {
    "collapsed": false
   },
   "outputs": [
    {
     "data": {
      "text/html": [
       "<div id=\"glowscript\" class=\"glowscript\"></div>"
      ],
      "text/plain": [
       "<IPython.core.display.HTML object>"
      ]
     },
     "metadata": {},
     "output_type": "display_data"
    },
    {
     "data": {
      "application/javascript": [
       "window.__context = { glowscript_container: $(\"#glowscript\").removeAttr(\"id\")}"
      ],
      "text/plain": [
       "<IPython.core.display.Javascript object>"
      ]
     },
     "metadata": {},
     "output_type": "display_data"
    }
   ],
   "source": [
    "from vpython import *\n",
    "scene=canvas(width=800, height=800)\n",
    "# Constants\n",
    "G = 6.7e-11\n",
    "mSun = 2e30   # Sun Mass\n",
    "mStar=0.5*mSun\n",
    "dt = 1000 # time step"
   ]
  },
  {
   "cell_type": "code",
   "execution_count": 7,
   "metadata": {
    "collapsed": false
   },
   "outputs": [],
   "source": [
    "### Code Cell for Simulation 1\n",
    "# Constants\n",
    "G = 6.7e-11\n",
    "mSun = 2e30   # Sun Mass\n",
    "mStar=0.5*mSun\n",
    "dt = 1000 # time step\n",
    "\n",
    "### Generate Objects \n",
    "\n",
    "Sun=sphere(pos=vector(0, 0, 0), radius = 1e6, color = color.green, make_trail = True)\n",
    "Star=sphere(pos=vector(1.5e11, 0, 0), radius = 4.6e3, color = color.yellow, make_trail = True)\n",
    "\n",
    "### End\n",
    "scene.autoscale = False ##turn off automatic camera zoom\n",
    "\n",
    "### Initial Conditions\n",
    "vSun=vector(0, 0, 0)\n",
    "vStar=vector(0, 3e4, 0)\n",
    "pSun=mSun*vSun\n",
    "pStar=mStar*vStar\n",
    "### End \n",
    "\n",
    "# Set the clock\n",
    "t=0 \n",
    "\n",
    "### Main Iteration Loop\n",
    "while t<365*24*60*60:\n",
    "    rate(1e4)\n",
    "    ### Updates\n",
    "    distance = Star.pos-Sun.pos\n",
    "    force = G*mSun*mStar/mag2(distance)\n",
    "    force_unit_toStar = -norm(distance)\n",
    "    force_unit_toSun = norm(distance)\n",
    "    pSun = pSun + force*dt*force_unit_toSun\n",
    "    pStar = pStar + force*dt*force_unit_toStar\n",
    "    Sun.pos = Sun.pos + pSun*dt/mSun\n",
    "    Star.pos = Star.pos + pStar*dt/mStar\n",
    "    \n",
    "    \n",
    "    ### End\n",
    "    scene.center = Sun.pos\n",
    "    t+=dt"
   ]
  },
  {
   "cell_type": "code",
   "execution_count": null,
   "metadata": {
    "collapsed": true
   },
   "outputs": [],
   "source": []
  }
 ],
 "metadata": {
  "kernelspec": {
   "display_name": "VPython",
   "language": "python",
   "name": "vpython"
  },
  "language_info": {
   "codemirror_mode": {
    "name": "ipython",
    "version": 3
   },
   "file_extension": ".py",
   "mimetype": "text/x-python",
   "name": "python",
   "nbconvert_exporter": "python",
   "pygments_lexer": "ipython3",
   "version": "3.5.2"
  }
 },
 "nbformat": 4,
 "nbformat_minor": 0
}
