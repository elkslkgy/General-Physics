{
 "cells": [
  {
   "cell_type": "code",
   "execution_count": 7,
   "metadata": {
    "collapsed": false
   },
   "outputs": [
    {
     "data": {
      "text/html": [
       "<div id=\"glowscript\" class=\"glowscript\"></div>"
      ],
      "text/plain": [
       "<IPython.core.display.HTML object>"
      ]
     },
     "metadata": {},
     "output_type": "display_data"
    },
    {
     "data": {
      "application/javascript": [
       "window.__context = { glowscript_container: $(\"#glowscript\").removeAttr(\"id\")}"
      ],
      "text/plain": [
       "<IPython.core.display.Javascript object>"
      ]
     },
     "metadata": {},
     "output_type": "display_data"
    },
    {
     "name": "stdout",
     "output_type": "stream",
     "text": [
      "1.05\n",
      "1.0866666666666676\n"
     ]
    }
   ],
   "source": [
    "from vpython import *\n",
    "\n",
    "scene1 = canvas(width=800,heigh=400,center=vector(0,0,0),range=7)\n",
    "g1=graph(width=800,height=400)\n",
    "gc1=gdots(graph=g1,size=3,color=color.cyan)\n",
    "\n",
    "# Constants\n",
    "mass, L0, k = 3 ,14, 50 # Tuple assignment\n",
    "\n",
    "ball=sphere(pos=vec(0,0,0),color=color.green,radius=1)\n",
    "\n",
    "wall_1=box(pos=vec(-7,0,0),color=color.yellow, size=vector(0.1,8,8))\n",
    "wall_2=box(pos=vec(7,0,0),color=color.yellow, size=vector(0.1,8,8))\n",
    "\n",
    "\n",
    "\n",
    "\n",
    "spring1=helix(pos=wall_1.pos,axis=(ball.pos-wall_1.pos),thickness = 0.1,radius=0.4,coils=10,color=color.yellow)\n",
    "spring2=helix(pos=ball.pos,axis=(wall_2.pos-ball.pos),thickness = 0.1,radius=0.4,coils=10,color=color.cyan)\n",
    "\n",
    "pball=vec(0,0,0)\n",
    "\n",
    "\n",
    "scene1.autoscale = False ## Turn off automatic Camera Zoom\n",
    "scene1.userzoom = False ## Turn off userzoom\n",
    "ball.pos=vec(-2,0,0)\n",
    "\n",
    "dt=0.02\n",
    "t=0\n",
    "scale=0.01\n",
    "# Force arrows\n",
    "Fa1=arrow(pos=ball.pos,axis=vec(0,0,0),shaftwidth=0.2, color=color.white)\n",
    "Fa2=arrow(pos=ball.pos,axis=vec(0,0,0),shaftwidth=0.2, color=color.white)\n",
    "ball_pos=[]\n",
    "ball_p=[]\n",
    "time=[]\n",
    "while t<5:\n",
    "    rate(50)\n",
    "    # Length of spring 1\n",
    "    L1=mag(wall_1.pos-ball.pos)              \n",
    "    # Length of spring 2\n",
    "    L2=mag(wall_2.pos-ball.pos)\n",
    "    # Force from spring 1\n",
    "    F1=-k*(L1-L0)*norm(ball.pos-wall_1.pos)\n",
    "    # Force from spring 2\n",
    "    F2=-k*(L2-L0)*norm(ball.pos-wall_2.pos)\n",
    "    \n",
    "    # Update momentum\n",
    "    pball+=(F1+F2)*dt\n",
    "\n",
    "    # Update Position\n",
    "    ball.pos+=pball/mass*dt\n",
    "\n",
    "    # Update spring 1\n",
    "    spring1.axis=ball.pos-wall_1.pos\n",
    "    # Update spring 2\n",
    "    spring2.pos=ball.pos\n",
    "    spring2.axis=wall_2.pos-ball.pos\n",
    "    \n",
    "    # Update the Force arrows\n",
    "    Fa1.pos=ball.pos\n",
    "    Fa1.axis=scale*F1\n",
    "    Fa2.pos=ball.pos\n",
    "    Fa2.axis=scale*F2\n",
    "    \n",
    "    # Plot the x vs t\n",
    "    gc1.plot([t,ball.pos.x])\n",
    "\n",
    "    t+=dt\n",
    "    ball_pos.append(ball.pos.x)\n",
    "    time.append(t)\n",
    "\n",
    "T1=1.05\n",
    "\n",
    "i=1\n",
    "count=0\n",
    "lowestpoint1=0\n",
    "lowestpoint2=0\n",
    "lowestpoint=0\n",
    "t=0\n",
    "while t<4:\n",
    "    lowestpoint1 = lowestpoint2\n",
    "    if ball_pos[i]<ball_pos[i-1] and ball_pos[i]<ball_pos[i+1]:\n",
    "        lowestpoint2 = time[i]\n",
    "        lowestpoint += lowestpoint2 - lowestpoint1\n",
    "        count += 1\n",
    "    i += 1\n",
    "    t += dt\n",
    "T2=lowestpoint/count\n",
    "\n",
    "print(T1)\n",
    "print(T2)"
   ]
  },
  {
   "cell_type": "code",
   "execution_count": null,
   "metadata": {
    "collapsed": true
   },
   "outputs": [],
   "source": []
  }
 ],
 "metadata": {
  "kernelspec": {
   "display_name": "VPython",
   "language": "python",
   "name": "vpython"
  },
  "language_info": {
   "codemirror_mode": {
    "name": "ipython",
    "version": 3
   },
   "file_extension": ".py",
   "mimetype": "text/x-python",
   "name": "python",
   "nbconvert_exporter": "python",
   "pygments_lexer": "ipython3",
   "version": "3.5.2"
  }
 },
 "nbformat": 4,
 "nbformat_minor": 0
}
