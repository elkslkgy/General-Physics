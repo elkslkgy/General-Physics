{
 "cells": [
  {
   "cell_type": "markdown",
   "metadata": {},
   "source": [
    "# Computer Homework 4\n",
    "\n",
    "## Simulation of the Solar System\n",
    "\n",
    "The objective of this computer homework is to learn how to simulate the motion of Mars and Earth around the Sun. \n",
    "\n",
    "### Python data structures and statements covered in this HW\n",
    "\n",
    "* Data Structure:\n",
    "    * `dictionary`\n",
    "* Statement:\n",
    "    * `def`\n",
    "\n",
    "References: \n",
    "* [Jupyter VPython Documentation](http://www.glowscript.org/docs/VPythonDocs/index.html)\n",
    "* [Think Python: How to Think Like a Computer Scientist](http://greenteapress.com/thinkpython2/html/index.html)\n",
    "           \n",
    "\n"
   ]
  },
  {
   "cell_type": "markdown",
   "metadata": {},
   "source": [
    "## Python tutorial\n",
    "\n",
    "### Dictionary \n",
    "\n",
    "A *dictionary* is a key‐to‐value mapping data type. This is can be regarded as a *hashtable*. \n",
    "\n",
    "Here are ways to construct a dictionary in Python,\n",
    "\n",
    "```\n",
    "d1 = {1:'a', 2:'b'}\n",
    "d2 = dict(1='a', 2='b')\n",
    "d3 = {}; d3[1] = 'a'; d3[2]='b'\n",
    "```\n",
    "`d1`, `d2`, and `d3` are the same dictionary generated in different ways. \n",
    "In this example, `1`, `2` are the **keys** of the dictionary, and `'a'`,`'b'` are the **values**. \n",
    "One can use retrieve data from a dictionary by giving a key. \n",
    "\n",
    "The usual operation is shown in below:\n",
    "```\n",
    "d = {\"earth\":1, \"mars\":2, \"halley\":3} \n",
    "print(d)\n",
    "print(d[\"earth\"])\n",
    "d[\"sun\"] = \"s\"\n",
    "print(d)\n",
    "del d[\"earth\"] \n",
    "print(d)\n",
    "print(\"earth\" in d) \n",
    "print(\"earth\" not in d) \n",
    "print(len(d))\n",
    "```\n",
    "\n",
    "Statement      | Action  \n",
    "-------------- | ----------------------------------------------------\n",
    "`d[key]`       | gets the value stored in `d` at index `key`        \n",
    "`d[key]= value`| sets `d`’s value at index `key` as value          \n",
    "`key in d`     | gives `True` if `key` is in `d`, else gives `False`\n",
    "`key not in d` | gives `True` if `key` is not in `d`, else gives `False`\n",
    "`len(d)`       | gives the number of stored data in `d`             \n",
    "`dict.copy()`  | return a complete copy of `dict`                   \n",
    "\n",
    "\n",
    "Notice that the keys in a dictionary must be **immutable**, so `str`, `int` or `tuple` can be used as keys, but `list` can not.\n",
    "\n",
    "Further information see: [Dictionaries](http://greenteapress.com/thinkpython2/html/thinkpython2012.html)"
   ]
  },
  {
   "cell_type": "code",
   "execution_count": null,
   "metadata": {
    "collapsed": false
   },
   "outputs": [],
   "source": [
    "d = {\"earth\":1, \"mars\":2, \"halley\":3} \n",
    "print(d)\n",
    "print(d[\"earth\"])\n",
    "d[\"sun\"] = \"s\"\n",
    "print(d)\n",
    "del d[\"earth\"] \n",
    "print(d)\n",
    "print(\"earth\" in d) \n",
    "print(\"earth\" not in d) \n",
    "print(len(d))"
   ]
  },
  {
   "cell_type": "markdown",
   "metadata": {},
   "source": [
    "We can retreive key-value pairs by  iterate through a dictionary as"
   ]
  },
  {
   "cell_type": "code",
   "execution_count": null,
   "metadata": {
    "collapsed": false
   },
   "outputs": [],
   "source": [
    "for i,j in d.items():\n",
    "    print(i,j)"
   ]
  },
  {
   "cell_type": "markdown",
   "metadata": {},
   "source": [
    "### Function \n",
    "\n",
    "Sometimes we find in our program that similar sequences of statements occur several times, and they only differ in the  parameters supplied. In programming, we usually define a `function` to collect the sequence of statements, and call this `function` in the program with different parameters. \n",
    "\n",
    "The syntax to define a function in Python is like this example, where `area` calculates the area of a rectangle:\n",
    "```\n",
    "def area(a,b):\n",
    "    c=a*b\n",
    "    return c\n",
    "\n",
    "```\n",
    "\n",
    "If there is no `return` statement, the function will return `None`. \n",
    "\n",
    "When you create a variable inside a function, it is **local**, which means that it only exists inside the function. \n",
    "\n",
    "Further information see: [Functions](http://greenteapress.com/thinkpython2/html/thinkpython2004.html)"
   ]
  },
  {
   "cell_type": "code",
   "execution_count": null,
   "metadata": {
    "collapsed": false
   },
   "outputs": [],
   "source": [
    "def area(a,b):\n",
    "    c=a*b\n",
    "    return c\n",
    "\n",
    "area(3,4)\n"
   ]
  },
  {
   "cell_type": "markdown",
   "metadata": {},
   "source": [
    "## Problem 1\n",
    "\n",
    "### Collect Data\n",
    "\n",
    "* Construct a dictionary `mass` that contains the masses of `sun`, `earth`, and `mars`. \n",
    "\n",
    "* Constract a dictionary `radius` that contains the radii of `sun`, `earth`, and `mars`.\n",
    "\n",
    "* Construct a dictionary `d_at_peri` that contains the distances  `earth` and `mars` relative to the sun, respectively, when they are at the perihelion. \n",
    "\n",
    "* Construct a dictionary `semimajor` that contains the semi-major axes of `earth` and `mars` orbits. \n",
    "Google to find these values.\n",
    "\n",
    "* Construct a dictionary `v_at_peri` that contain  the velocities of `earth` and `mars` relative to the sun, respectively, when they are at the perihelion. \n",
    "\n",
    " \n",
    "One can calculate the perihelion velocities using the formula for the velocity of an object at some distance `r` from the Sun:\n",
    "\n",
    "$$ v^2 = G M (2/r - 1/a)$$\n",
    "\n",
    "Where `G` is the universal gravitational constant, `M` is the mass of the Sun, and `a` is the planet's semimajor axis.\n",
    "\n"
   ]
  },
  {
   "cell_type": "code",
   "execution_count": 1,
   "metadata": {
    "collapsed": false
   },
   "outputs": [],
   "source": [
    "G = 6.7e-11\n",
    "mass = {\"sun\":1.989e30, \"earth\":5.972e24, \"mars\":6.417e23}\n",
    "radius = {\"sun\":6.957e8, \"earth\":6.378e6, \"mars\":3.39e6}\n",
    "d_at_peri = {\"earth\":1.471e11, \"mars\":2.066e11}\n",
    "semimajor = {\"earth\":1.496e11, \"mars\":2.279e11}\n",
    "v_earth = sqrt(G*mass[\"sun\"]*(2/d_at_peri[\"earth\"]-1/semimajor[\"earth\"]))\n",
    "v_mars = sqrt(G*mass[\"sun\"]*(2/d_at_peri[\"mars\"]-1/semimajor[\"mars\"]))\n",
    "v_at_peri = {\"earth\":v_earth, \"mars\":v_mars}\n",
    "#already finish this plot"
   ]
  },
  {
   "cell_type": "markdown",
   "metadata": {},
   "source": [
    "### Define  functions\n",
    "\n",
    "### Force \n",
    "Construct a function `F_grav(m, r_pos)` that returns the force vector exerted on an object of mass `m` by the sun when it is at `r_pos`. Test your function for the earth when `r_pos= vector(d_at_peri['earth'], 0, 0)` in `F_grav(mass['earth'], r_pos)`."
   ]
  },
  {
   "cell_type": "code",
   "execution_count": 2,
   "metadata": {
    "collapsed": false
   },
   "outputs": [],
   "source": [
    "def F_grav(m,r_pos):\n",
    "    F = -G*mass[\"sun\"]*m/mag2(r_pos)*norm(r_pos)\n",
    "    return F\n",
    "\n",
    "#almost finish---->cannot test by the subtask"
   ]
  },
  {
   "cell_type": "markdown",
   "metadata": {},
   "source": [
    "### Potential energy\n",
    "Now construct a function `U_grav(m,r)`  that returns the potential energy between an object of mass `m` and the sun when they are separated by distance `r`\n"
   ]
  },
  {
   "cell_type": "code",
   "execution_count": 3,
   "metadata": {
    "collapsed": true
   },
   "outputs": [],
   "source": [
    "def U_grav(m,r):\n",
    "    U = -G*mass[\"sun\"]*m/r\n",
    "    return U\n",
    "\n",
    "#maybe it is finish seeing that there is no subtask to test"
   ]
  },
  {
   "cell_type": "markdown",
   "metadata": {},
   "source": [
    "### Kinetic energy\n",
    "Now construct a function `E_k(m,v)`  that returns the kinetic energy of an object of mass `m` with velocity `v`. Assume $v\\ll c$.\n"
   ]
  },
  {
   "cell_type": "code",
   "execution_count": 4,
   "metadata": {
    "collapsed": true
   },
   "outputs": [],
   "source": [
    "def E_k(m,v):\n",
    "    E = 1/2*m*v**2\n",
    "    return E\n",
    "\n",
    "#maybe it is finish seeing that there is no subtask to test"
   ]
  },
  {
   "cell_type": "markdown",
   "metadata": {
    "collapsed": true
   },
   "source": [
    "## Problem 2\n",
    "Assuming Sun is fixed and neglecting the interaction between  Earth and Mars, simulate the orbits of Earth and Mars with initial positions at perihelion and initial velocities given by `v_at_peri`.  \n",
    "\n",
    "** Note **: To make the objects visiable, we set the Sun radius by 10 times, and the planet radii by 300 times.\n",
    "* Numerically determine the periods of Earth and Mars, and compute $T^2/a^3$ for each planet, where $T$ is the period and $a$ is the semi-major axis. \n",
    "* Numerically compute the work done on Earth by the gravtiational force for 3 Earth year. Plot work done on Earth $W$,  changes in kinetic energy $\\Delta K=K_f-K_i$ and potential energy $\\Delta U=U_f-U_i$ of Earth as a function of time. \n",
    "* Do the same for Mars.\n",
    "\n",
    "    \n",
    "** Note **: position and velocity are both vector, while  `d_at_peri` and `v_at_peri` store numbers. \n",
    "\n",
    "** Hint ** : You need to approximate work by adding up amount of work done by gravitational force along each step of the path:\n",
    "$$ W=\\sum \\vec{F}\\cdot \\Delta \\vec{r} = \\vec{F}_1\\cdot \\Delta \\vec{r}_1 + \\vec{F}_2\\cdot \\Delta \\vec{r}_2 +\\cdots $$\n"
   ]
  },
  {
   "cell_type": "code",
   "execution_count": 5,
   "metadata": {
    "collapsed": false,
    "scrolled": true
   },
   "outputs": [
    {
     "data": {
      "application/javascript": [
       "require.undef(\"nbextensions/jquery-ui.custom.min\");"
      ],
      "text/plain": [
       "<IPython.core.display.Javascript object>"
      ]
     },
     "metadata": {},
     "output_type": "display_data"
    },
    {
     "data": {
      "application/javascript": [
       "require.undef(\"nbextensions/glow.2.1a.min\");"
      ],
      "text/plain": [
       "<IPython.core.display.Javascript object>"
      ]
     },
     "metadata": {},
     "output_type": "display_data"
    },
    {
     "data": {
      "application/javascript": [
       "require.undef(\"nbextensions/glow.2.1b.min\");"
      ],
      "text/plain": [
       "<IPython.core.display.Javascript object>"
      ]
     },
     "metadata": {},
     "output_type": "display_data"
    },
    {
     "data": {
      "application/javascript": [
       "require.undef(\"nbextensions/glowcomm\");"
      ],
      "text/plain": [
       "<IPython.core.display.Javascript object>"
      ]
     },
     "metadata": {},
     "output_type": "display_data"
    },
    {
     "data": {
      "application/javascript": [
       "require([\"nbextensions/glowcomm\"], function(){console.log(\"glowcomm loaded\");})"
      ],
      "text/plain": [
       "<IPython.core.display.Javascript object>"
      ]
     },
     "metadata": {},
     "output_type": "display_data"
    },
    {
     "data": {
      "text/html": [
       "<div id=\"glowscript\" class=\"glowscript\"></div>"
      ],
      "text/plain": [
       "<IPython.core.display.HTML object>"
      ]
     },
     "metadata": {},
     "output_type": "display_data"
    },
    {
     "data": {
      "application/javascript": [
       "window.__context = { glowscript_container: $(\"#glowscript\").removeAttr(\"id\")}"
      ],
      "text/plain": [
       "<IPython.core.display.Javascript object>"
      ]
     },
     "metadata": {},
     "output_type": "display_data"
    },
    {
     "data": {
      "text/html": [
       "<div id=\"glowscript\" class=\"glowscript\"></div>"
      ],
      "text/plain": [
       "<IPython.core.display.HTML object>"
      ]
     },
     "metadata": {},
     "output_type": "display_data"
    },
    {
     "data": {
      "application/javascript": [
       "window.__context = { glowscript_container: $(\"#glowscript\").removeAttr(\"id\")}"
      ],
      "text/plain": [
       "<IPython.core.display.Javascript object>"
      ]
     },
     "metadata": {},
     "output_type": "display_data"
    }
   ],
   "source": [
    "from vpython import *\n",
    "scene=canvas(height=600,width=800)\n",
    "g1=graph(scene=scene,width=400,height=200,ytitle='E',xtitle='t') # Create a graph for plotting\n",
    "gc11=gcurve(graph=g1,color=color.cyan,dot=True) \n",
    "gc12=gcurve(graph=g1,color=color.red,dot=True) \n",
    "gc13=gcurve(graph=g1,color=color.blue,dot=True) \n",
    "\n",
    "g2=graph(scene=scene,width=400,height=200,ytitle='E',xtitle='t') # Create a graph for plotting\n",
    "gc21=gcurve(graph=g2,color=color.cyan,dot=True)\n",
    "gc22=gcurve(graph=g2,color=color.red,dot=True)\n",
    "gc23=gcurve(graph=g2,color=color.blue,dot=True)"
   ]
  },
  {
   "cell_type": "code",
   "execution_count": 8,
   "metadata": {
    "collapsed": false
   },
   "outputs": [
    {
     "ename": "KeyboardInterrupt",
     "evalue": "",
     "output_type": "error",
     "traceback": [
      "\u001b[1;31m---------------------------------------------------------------------------\u001b[0m",
      "\u001b[1;31mKeyboardInterrupt\u001b[0m                         Traceback (most recent call last)",
      "\u001b[1;32m<ipython-input-8-cb3fc5ff9362>\u001b[0m in \u001b[0;36m<module>\u001b[1;34m()\u001b[0m\n\u001b[0;32m     16\u001b[0m \u001b[1;33m\u001b[0m\u001b[0m\n\u001b[0;32m     17\u001b[0m \u001b[1;32mwhile\u001b[0m \u001b[0mt\u001b[0m\u001b[1;33m<\u001b[0m\u001b[1;36m365\u001b[0m\u001b[1;33m*\u001b[0m\u001b[1;36m24\u001b[0m\u001b[1;33m*\u001b[0m\u001b[1;36m60\u001b[0m\u001b[1;33m*\u001b[0m\u001b[1;36m60\u001b[0m\u001b[1;33m*\u001b[0m\u001b[1;36m3\u001b[0m\u001b[1;33m:\u001b[0m\u001b[1;33m\u001b[0m\u001b[0m\n\u001b[1;32m---> 18\u001b[1;33m     \u001b[0mrate\u001b[0m\u001b[1;33m(\u001b[0m\u001b[1;36m1000\u001b[0m\u001b[1;33m)\u001b[0m\u001b[1;33m\u001b[0m\u001b[0m\n\u001b[0m\u001b[0;32m     19\u001b[0m \u001b[1;31m### Your simulation\u001b[0m\u001b[1;33m\u001b[0m\u001b[1;33m\u001b[0m\u001b[0m\n\u001b[0;32m     20\u001b[0m     \u001b[0mF_earth\u001b[0m \u001b[1;33m=\u001b[0m \u001b[0mF_grav\u001b[0m\u001b[1;33m(\u001b[0m\u001b[0mmass\u001b[0m\u001b[1;33m[\u001b[0m\u001b[1;34m\"earth\"\u001b[0m\u001b[1;33m]\u001b[0m\u001b[1;33m,\u001b[0m \u001b[0mEarth\u001b[0m\u001b[1;33m.\u001b[0m\u001b[0mpos\u001b[0m\u001b[1;33m)\u001b[0m\u001b[1;33m\u001b[0m\u001b[0m\n",
      "\u001b[1;32mC:\\Users\\ASUS\\Anaconda3\\lib\\site-packages\\vpython\\vpython.py\u001b[0m in \u001b[0;36m__call__\u001b[1;34m(self, maxRate)\u001b[0m\n\u001b[0;32m    214\u001b[0m         \u001b[1;32mif\u001b[0m \u001b[1;33m(\u001b[0m\u001b[0mself\u001b[0m\u001b[1;33m.\u001b[0m\u001b[0mrval\u001b[0m \u001b[1;33m!=\u001b[0m \u001b[0mmaxRate\u001b[0m\u001b[1;33m)\u001b[0m \u001b[1;32mand\u001b[0m \u001b[1;33m(\u001b[0m\u001b[0mmaxRate\u001b[0m \u001b[1;33m>=\u001b[0m \u001b[1;36m1.0\u001b[0m\u001b[1;33m)\u001b[0m\u001b[1;33m:\u001b[0m\u001b[1;33m\u001b[0m\u001b[0m\n\u001b[0;32m    215\u001b[0m             \u001b[0mself\u001b[0m\u001b[1;33m.\u001b[0m\u001b[0mrval\u001b[0m \u001b[1;33m=\u001b[0m \u001b[0mmaxRate\u001b[0m\u001b[1;33m\u001b[0m\u001b[0m\n\u001b[1;32m--> 216\u001b[1;33m         \u001b[0msuper\u001b[0m\u001b[1;33m(\u001b[0m\u001b[0mRateKeeper2\u001b[0m\u001b[1;33m,\u001b[0m \u001b[0mself\u001b[0m\u001b[1;33m)\u001b[0m\u001b[1;33m.\u001b[0m\u001b[0m__call__\u001b[0m\u001b[1;33m(\u001b[0m\u001b[0mmaxRate\u001b[0m\u001b[1;33m)\u001b[0m\u001b[1;33m\u001b[0m\u001b[0m\n\u001b[0m\u001b[0;32m    217\u001b[0m \u001b[1;33m\u001b[0m\u001b[0m\n\u001b[0;32m    218\u001b[0m \u001b[1;32mif\u001b[0m \u001b[0msys\u001b[0m\u001b[1;33m.\u001b[0m\u001b[0mversion\u001b[0m \u001b[1;33m>\u001b[0m \u001b[1;34m'3'\u001b[0m\u001b[1;33m:\u001b[0m\u001b[1;33m\u001b[0m\u001b[0m\n",
      "\u001b[1;32mC:\\Users\\ASUS\\Anaconda3\\lib\\site-packages\\vpython\\rate_control.py\u001b[0m in \u001b[0;36m__call__\u001b[1;34m(self, maxRate)\u001b[0m\n\u001b[0;32m    204\u001b[0m             \u001b[0mdt\u001b[0m \u001b[1;33m=\u001b[0m \u001b[0mself\u001b[0m\u001b[1;33m.\u001b[0m\u001b[0mlastSleep\u001b[0m \u001b[1;33m+\u001b[0m \u001b[0mself\u001b[0m\u001b[1;33m.\u001b[0m\u001b[0mcalls\u001b[0m\u001b[1;33m*\u001b[0m\u001b[1;33m(\u001b[0m\u001b[0mself\u001b[0m\u001b[1;33m.\u001b[0m\u001b[0muserTime\u001b[0m \u001b[1;33m+\u001b[0m \u001b[0mself\u001b[0m\u001b[1;33m.\u001b[0m\u001b[0mcallTime\u001b[0m \u001b[1;33m+\u001b[0m \u001b[0mself\u001b[0m\u001b[1;33m.\u001b[0m\u001b[0mdelay\u001b[0m\u001b[1;33m)\u001b[0m \u001b[1;33m+\u001b[0m\u001b[0;31m \u001b[0m\u001b[0;31m\\\u001b[0m\u001b[1;33m\u001b[0m\u001b[0m\n\u001b[0;32m    205\u001b[0m                  \u001b[0mrenders\u001b[0m\u001b[1;33m*\u001b[0m\u001b[0mself\u001b[0m\u001b[1;33m.\u001b[0m\u001b[0mrenderTime\u001b[0m \u001b[1;33m+\u001b[0m \u001b[0msleeps\u001b[0m\u001b[1;33m*\u001b[0m\u001b[0mself\u001b[0m\u001b[1;33m.\u001b[0m\u001b[0minteractionPeriod\u001b[0m \u001b[1;33m-\u001b[0m \u001b[0m_clock\u001b[0m\u001b[1;33m(\u001b[0m\u001b[1;33m)\u001b[0m\u001b[1;33m\u001b[0m\u001b[0m\n\u001b[1;32m--> 206\u001b[1;33m             \u001b[0m_sleep\u001b[0m\u001b[1;33m(\u001b[0m\u001b[0mdt\u001b[0m\u001b[1;33m)\u001b[0m\u001b[1;33m\u001b[0m\u001b[0m\n\u001b[0m\u001b[0;32m    207\u001b[0m             \u001b[0mself\u001b[0m\u001b[1;33m.\u001b[0m\u001b[0mlastSleep\u001b[0m \u001b[1;33m=\u001b[0m \u001b[0m_clock\u001b[0m\u001b[1;33m(\u001b[0m\u001b[1;33m)\u001b[0m\u001b[1;33m\u001b[0m\u001b[0m\n\u001b[0;32m    208\u001b[0m             \u001b[0mself\u001b[0m\u001b[1;33m.\u001b[0m\u001b[0mcalls\u001b[0m \u001b[1;33m=\u001b[0m \u001b[1;36m0\u001b[0m\u001b[1;33m\u001b[0m\u001b[0m\n",
      "\u001b[1;32mC:\\Users\\ASUS\\Anaconda3\\lib\\site-packages\\vpython\\rate_control.py\u001b[0m in \u001b[0;36m_sleep\u001b[1;34m(dt)\u001b[0m\n\u001b[0;32m     47\u001b[0m         \u001b[0mdtsleep\u001b[0m \u001b[1;33m=\u001b[0m \u001b[0mnticks\u001b[0m\u001b[1;33m*\u001b[0m\u001b[0m_tick\u001b[0m\u001b[1;33m\u001b[0m\u001b[0m\n\u001b[0;32m     48\u001b[0m         \u001b[0mt\u001b[0m \u001b[1;33m=\u001b[0m \u001b[0m_clock\u001b[0m\u001b[1;33m(\u001b[0m\u001b[1;33m)\u001b[0m\u001b[1;33m\u001b[0m\u001b[0m\n\u001b[1;32m---> 49\u001b[1;33m         \u001b[0mtime\u001b[0m\u001b[1;33m.\u001b[0m\u001b[0msleep\u001b[0m\u001b[1;33m(\u001b[0m\u001b[0mdtsleep\u001b[0m\u001b[1;33m)\u001b[0m\u001b[1;33m\u001b[0m\u001b[0m\n\u001b[0m\u001b[0;32m     50\u001b[0m         \u001b[0mt\u001b[0m \u001b[1;33m=\u001b[0m \u001b[0m_clock\u001b[0m\u001b[1;33m(\u001b[0m\u001b[1;33m)\u001b[0m\u001b[1;33m-\u001b[0m\u001b[0mt\u001b[0m\u001b[1;33m\u001b[0m\u001b[0m\n\u001b[0;32m     51\u001b[0m         \u001b[0mdt\u001b[0m \u001b[1;33m-=\u001b[0m \u001b[0mt\u001b[0m\u001b[1;33m\u001b[0m\u001b[0m\n",
      "\u001b[1;31mKeyboardInterrupt\u001b[0m: "
     ]
    }
   ],
   "source": [
    "Sun=sphere(radius=10*radius['sun'],pos=vec(0,0,0),color=color.yellow)\n",
    "Earth=sphere(radius=300*radius['earth'],pos=vec(d_at_peri['earth'],0,0),color=color.green,\n",
    "                make_trail=True)\n",
    "Mars=sphere(radius=300*radius['mars'],pos=vec(d_at_peri['mars'],0,0),color=color.orange,  \n",
    "           make_trail=True)\n",
    "\n",
    "scene.userzoom=False\n",
    "### Define Initial Values, etc. \n",
    "t=0\n",
    "dt=1000\n",
    "U_earth=0\n",
    "E_earth=0\n",
    "W_earth=0\n",
    "\n",
    "p_earth = mass[\"earth\"]*vec(0, v_at_peri[\"earth\"], 0)\n",
    "\n",
    "while t<365*24*60*60*3:\n",
    "    rate(1000)\n",
    "### Your simulation\n",
    "    F_earth = F_grav(mass[\"earth\"], Earth.pos)\n",
    "    p_earth += F_earth*dt\n",
    "    Earth.pos += p_earth/mass[\"earth\"]*dt\n",
    "    U_earth_new = U_grav(mass[\"earth\"], mag(Earth.pos))\n",
    "    E_earth_new = E_k(mass[\"earth\"], mag(p_earth/mass[\"earth\"]))\n",
    "    W_earth += dot(F_earth, norm(p_earth))*mag(p_earth/mass[\"earth\"]*dt))\n",
    "    gc11.plot([t, W_earth])\n",
    "    gc12.plot([t, E_earth_new-E_earth])\n",
    "    gc13.plot([t, U_earth_new-U_earth])\n",
    "    t+=dt"
   ]
  },
  {
   "cell_type": "code",
   "execution_count": null,
   "metadata": {
    "collapsed": true
   },
   "outputs": [],
   "source": []
  },
  {
   "cell_type": "code",
   "execution_count": null,
   "metadata": {
    "collapsed": true
   },
   "outputs": [],
   "source": []
  }
 ],
 "metadata": {
  "anaconda-cloud": {},
  "kernelspec": {
   "display_name": "VPython",
   "language": "python",
   "name": "vpython"
  },
  "language_info": {
   "codemirror_mode": {
    "name": "ipython",
    "version": 3
   },
   "file_extension": ".py",
   "mimetype": "text/x-python",
   "name": "python",
   "nbconvert_exporter": "python",
   "pygments_lexer": "ipython3",
   "version": "3.5.2"
  }
 },
 "nbformat": 4,
 "nbformat_minor": 1
}
